{
  "nbformat": 4,
  "nbformat_minor": 0,
  "metadata": {
    "colab": {
      "name": "WebScrap.ipynb",
      "provenance": [],
      "authorship_tag": "ABX9TyOxlFtMQT/j34aEGmiXQG28",
      "include_colab_link": true
    },
    "kernelspec": {
      "name": "python3",
      "display_name": "Python 3"
    },
    "language_info": {
      "name": "python"
    }
  },
  "cells": [
    {
      "cell_type": "markdown",
      "metadata": {
        "id": "view-in-github",
        "colab_type": "text"
      },
      "source": [
        "<a href=\"https://colab.research.google.com/github/MdImran2021/Advanced-python/blob/main/WebScrap.ipynb\" target=\"_parent\"><img src=\"https://colab.research.google.com/assets/colab-badge.svg\" alt=\"Open In Colab\"/></a>"
      ]
    },
    {
      "cell_type": "code",
      "metadata": {
        "colab": {
          "base_uri": "https://localhost:8080/"
        },
        "id": "KzPCuRURWbI1",
        "outputId": "81551d02-edae-4e85-c8b5-b50a30472141"
      },
      "source": [
        "pip install requests"
      ],
      "execution_count": 1,
      "outputs": [
        {
          "output_type": "stream",
          "name": "stdout",
          "text": [
            "Requirement already satisfied: requests in /usr/local/lib/python3.7/dist-packages (2.23.0)\n",
            "Requirement already satisfied: urllib3!=1.25.0,!=1.25.1,<1.26,>=1.21.1 in /usr/local/lib/python3.7/dist-packages (from requests) (1.24.3)\n",
            "Requirement already satisfied: chardet<4,>=3.0.2 in /usr/local/lib/python3.7/dist-packages (from requests) (3.0.4)\n",
            "Requirement already satisfied: certifi>=2017.4.17 in /usr/local/lib/python3.7/dist-packages (from requests) (2021.5.30)\n",
            "Requirement already satisfied: idna<3,>=2.5 in /usr/local/lib/python3.7/dist-packages (from requests) (2.10)\n"
          ]
        }
      ]
    },
    {
      "cell_type": "code",
      "metadata": {
        "id": "aRoDEzmSWiBx"
      },
      "source": [
        "import requests\n",
        "from bs4 import BeautifulSoup #For web scraping"
      ],
      "execution_count": 2,
      "outputs": []
    },
    {
      "cell_type": "code",
      "metadata": {
        "id": "dsrh-araWyEZ"
      },
      "source": [
        "amazon_product_url = \"https://www.amazon.in/Test-Exclusive_2020_1157-Multi-3GB-Storage/dp/B089MV3Q2G/ref=sr_1_2?dchild=1&keywords=redmi+note+10+pro+max&qid=1634710884&sr=8-2\""
      ],
      "execution_count": 3,
      "outputs": []
    },
    {
      "cell_type": "code",
      "metadata": {
        "id": "OaDVLNUOXaps"
      },
      "source": [
        "flipkart_product_url=\"https://www.flipkart.com/redmi-note-10-pro-max-dark-night-128-gb/p/itmfcdaff39806aa?pid=MOBGF47CSXKEEZGC&lid=LSTMOBGF47CSXKEEZGCFRAKMT&marketplace=FLIPKART&q=redmi+note+10+pro+max&store=tyy%2F4io&srno=s_1_1&otracker=search&otracker1=search&fm=SEARCH&iid=8116bda1-570d-430c-8752-b2866240f599.MOBGF47CSXKEEZGC.SEARCH&ppt=hp&ppn=homepage&ssid=rtxsv376jk0000001634710851260&qH=88286fdabbe23b7f\""
      ],
      "execution_count": 4,
      "outputs": []
    },
    {
      "cell_type": "code",
      "metadata": {
        "id": "W-GBXpI1X0X3"
      },
      "source": [
        "headers = {\"user-agent\":\"Mozilla/5.0 (Windows NT 10.0; Win64; x64) AppleWebKit/537.36 (KHTML, like Gecko) Chrome/95.0.4638.54 Safari/537.36\"}"
      ],
      "execution_count": 5,
      "outputs": []
    },
    {
      "cell_type": "code",
      "metadata": {
        "colab": {
          "base_uri": "https://localhost:8080/"
        },
        "id": "t0yScOUQYxNi",
        "outputId": "e0b89ea3-5422-4d2f-ec15-4f2825158501"
      },
      "source": [
        "page = requests.get(url=amazon_product_url, headers=headers) \n",
        "soup = BeautifulSoup(page.content,'lxml') \n",
        "#print(soup.prettify())\n",
        "title = soup.find(id = 'productTitle')\n",
        "text = title.get_text() # Will get text from html tags\n",
        "product_title = text.strip() # Removing special characters like \\n (newline)\n",
        "print(product_title )\n",
        "price = soup.find(id = 'priceblock_dealprice')\n",
        "price = price.get_text() # Will get text from html tags\n",
        "amazon_product_price = price.strip() # Removing special characters like \\n (newline)\n",
        "print(amazon_product_price )"
      ],
      "execution_count": 7,
      "outputs": [
        {
          "output_type": "stream",
          "name": "stdout",
          "text": [
            "Redmi Note 10 Pro Max (Dark Night, 6GB RAM, 128GB Storage) -108MP Quad Camera | 120Hz Super Amoled Display\n",
            "₹18,999.00\n"
          ]
        }
      ]
    },
    {
      "cell_type": "code",
      "metadata": {
        "colab": {
          "base_uri": "https://localhost:8080/"
        },
        "id": "6wm3DBkKaa7g",
        "outputId": "cb00de9a-0281-4fe5-80b8-4ee375d54688"
      },
      "source": [
        "page = requests.get(url=flipkart_product_url, headers=headers) \n",
        "soup = BeautifulSoup(page.content,'lxml') \n",
        "#print(soup.prettify())\n",
        "title = soup.find('span',class_ = 'B_NuCI')\n",
        "text = title.get_text() # Will get text from html tags\n",
        "product_title = text.strip() # Removing special characters like \\n (newline)\n",
        "print(product_title )\n",
        "price = soup.find('div',class_ = '_30jeq3 _16Jk6d')\n",
        "price = price.get_text() # Will get text from html tags\n",
        "flipkart_product_price = price.strip() # Removing special characters like \\n (newline)\n",
        "print(flipkart_product_price )"
      ],
      "execution_count": 10,
      "outputs": [
        {
          "output_type": "stream",
          "name": "stdout",
          "text": [
            "REDMI Note 10 Pro Max (Dark Night, 128 GB)  (8 GB RAM)\n",
            "₹24,790\n"
          ]
        }
      ]
    },
    {
      "cell_type": "code",
      "metadata": {
        "id": "m0sPVEWtbiRP"
      },
      "source": [
        "amazon_product_price = float(amazon_product_price.replace(\"₹\",\"\").replace(\",\",\"\"))\n",
        "flipkart_product_price = float(flipkart_product_price.replace(\"₹\",\"\").replace(\",\",\"\"))"
      ],
      "execution_count": 11,
      "outputs": []
    },
    {
      "cell_type": "code",
      "metadata": {
        "colab": {
          "base_uri": "https://localhost:8080/",
          "height": 336
        },
        "id": "rzhgB-xPdH9W",
        "outputId": "83bde1b2-9be7-453e-f5de-647627078c96"
      },
      "source": [
        "import matplotlib.pyplot as plt\n",
        "fig = plt.figure( )\n",
        "ax = fig.add_axes([0,0,1,1])\n",
        "langs = ['amazon','flipkart']\n",
        "students = [amazon_product_price,flipkart_product_price]\n",
        "ax.bar(langs, students)\n",
        "plt.show()"
      ],
      "execution_count": 13,
      "outputs": [
        {
          "output_type": "display_data",
          "data": {
            "image/png": "[encoded data removed]",
            "text/plain": [
              "<Figure size 432x288 with 1 Axes>"
            ]
          },
          "metadata": {
            "needs_background": "light"
          }
        }
      ]
    },
    {
      "cell_type": "code",
      "metadata": {
        "id": "-p6mbjJPdxOi"
      },
      "source": [
        ""
      ],
      "execution_count": null,
      "outputs": []
    }
  ]
}